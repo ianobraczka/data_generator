{
  "nbformat": 4,
  "nbformat_minor": 0,
  "metadata": {
    "colab": {
      "name": "data generator.ipynb",
      "provenance": [],
      "collapsed_sections": []
    },
    "kernelspec": {
      "name": "python3",
      "display_name": "Python 3"
    }
  },
  "cells": [
    {
      "cell_type": "markdown",
      "metadata": {
        "id": "OAA1c0TCkF2v"
      },
      "source": [
        "# Creating methods and structures"
      ]
    },
    {
      "cell_type": "markdown",
      "metadata": {
        "id": "psPhyfB5ZCPj"
      },
      "source": [
        "Install libraries\n"
      ]
    },
    {
      "cell_type": "code",
      "metadata": {
        "id": "nEiHm0TdXFcI",
        "colab": {
          "base_uri": "https://localhost:8080/",
          "height": 292
        },
        "outputId": "a9cc5e1b-d7bd-452e-825c-356505b5b06a"
      },
      "source": [
        "!pip install faker\n",
        "!pip install IMDbPY\n",
        "import pandas as pd, numpy as np\n",
        "import random,requests\n",
        "from bs4 import BeautifulSoup\n",
        "from faker import Faker\n",
        "import random\n",
        "\n",
        "#initialize Faker\n",
        "fake=Faker()"
      ],
      "execution_count": null,
      "outputs": [
        {
          "output_type": "stream",
          "text": [
            "Collecting faker\n",
            "\u001b[?25l  Downloading https://files.pythonhosted.org/packages/6e/6c/437383461986cc472b6ee001138ad637f638349e409a8fc21100fccd089d/Faker-4.14.0-py3-none-any.whl (1.1MB)\n",
            "\u001b[K     |████████████████████████████████| 1.1MB 3.2MB/s \n",
            "\u001b[?25hRequirement already satisfied: text-unidecode==1.3 in /usr/local/lib/python3.6/dist-packages (from faker) (1.3)\n",
            "Requirement already satisfied: python-dateutil>=2.4 in /usr/local/lib/python3.6/dist-packages (from faker) (2.8.1)\n",
            "Requirement already satisfied: six>=1.5 in /usr/local/lib/python3.6/dist-packages (from python-dateutil>=2.4->faker) (1.15.0)\n",
            "Installing collected packages: faker\n",
            "Successfully installed faker-4.14.0\n",
            "Collecting IMDbPY\n",
            "\u001b[?25l  Downloading https://files.pythonhosted.org/packages/c2/01/f5ac9a00185d02af0da7866e02f36de674c531f4d16a82f6ea942446471a/IMDbPY-2020.9.25-py3-none-any.whl (304kB)\n",
            "\u001b[K     |████████████████████████████████| 307kB 3.5MB/s \n",
            "\u001b[?25hRequirement already satisfied: SQLAlchemy in /usr/local/lib/python3.6/dist-packages (from IMDbPY) (1.3.20)\n",
            "Requirement already satisfied: lxml in /usr/local/lib/python3.6/dist-packages (from IMDbPY) (4.2.6)\n",
            "Installing collected packages: IMDbPY\n",
            "Successfully installed IMDbPY-2020.9.25\n"
          ],
          "name": "stdout"
        }
      ]
    },
    {
      "cell_type": "markdown",
      "metadata": {
        "id": "O9z0-7qOZIhP"
      },
      "source": [
        "Method to generate n **float** numbers from a to b"
      ]
    },
    {
      "cell_type": "code",
      "metadata": {
        "id": "Q0Df9HITZPO6"
      },
      "source": [
        "def random_floats(n, a, b):\n",
        "  array = []\n",
        "  for i in range(n):\n",
        "    array.append(round(random.uniform(a,b), 3))\n",
        "  return array"
      ],
      "execution_count": null,
      "outputs": []
    },
    {
      "cell_type": "markdown",
      "metadata": {
        "id": "SC2b0YiDaKtq"
      },
      "source": [
        "Method to generate n **integer** numbers from a to b"
      ]
    },
    {
      "cell_type": "code",
      "metadata": {
        "id": "3urUub1KaW_t"
      },
      "source": [
        "def random_ints(n, a, b):\n",
        "  array = []\n",
        "  for i in range(n):\n",
        "    array.append(random.randint(a,b))\n",
        "  return array"
      ],
      "execution_count": null,
      "outputs": []
    },
    {
      "cell_type": "markdown",
      "metadata": {
        "id": "BKMLRwgGbK7L"
      },
      "source": [
        "Method to generate n **values from array**"
      ]
    },
    {
      "cell_type": "code",
      "metadata": {
        "id": "DgtGDj6iaps0"
      },
      "source": [
        "def random_values(n, values):\n",
        "  array = []\n",
        "  for i in range(n):\n",
        "    array.append(random.choice(values))\n",
        "  return array"
      ],
      "execution_count": null,
      "outputs": []
    },
    {
      "cell_type": "markdown",
      "metadata": {
        "id": "jdx0mP9mgwM_"
      },
      "source": [
        "Method to generate n values from **array of options and another array of probabilities**"
      ]
    },
    {
      "cell_type": "code",
      "metadata": {
        "id": "hBebCXwfXO3D"
      },
      "source": [
        "def random_values_with_probs(n, values, p=None):\n",
        "  if not p:\n",
        "      # default probabilities\n",
        "      p = (0.49, 0.49, 0.01, 0.01)\n",
        "  return np.random.choice(values, size=n, p=p)\n",
        "\n",
        "#sample input\n",
        "#print(random_values_with_probs(100, [\"a\", \"b\", \"c\"], [0.4, 0.5, 0.1]))"
      ],
      "execution_count": null,
      "outputs": []
    },
    {
      "cell_type": "markdown",
      "metadata": {
        "id": "Ei_1JGCTg6ri"
      },
      "source": [
        "Method to generate n **names**"
      ]
    },
    {
      "cell_type": "code",
      "metadata": {
        "id": "qYVtRE8QXLDb"
      },
      "source": [
        "def random_names(n):\n",
        "  array = []\n",
        "  for i in range(n):\n",
        "    array.append(fake.name())\n",
        "  return array\n",
        "#print(random_names(10))"
      ],
      "execution_count": null,
      "outputs": []
    },
    {
      "cell_type": "markdown",
      "metadata": {
        "id": "gB0Lr4ICh51Q"
      },
      "source": [
        "**Example input** for creating new dataframe using all of the above"
      ]
    },
    {
      "cell_type": "code",
      "metadata": {
        "id": "RKAfKAWVXRqQ"
      },
      "source": [
        "# number of rows\n",
        "size = 500\n",
        "\n",
        "# new dataframe with column names\n",
        "df = pd.DataFrame(columns=['A', 'B', 'C', 'D'])\n",
        "\n",
        "# using functions to generate wanted values\n",
        "df['A'] = random_floats(size, 1.4, 5.4)\n",
        "df['B'] = random_ints(size, 10, 90) \n",
        "df['C'] = random_values(size, [\"bom\", \"otimo\", \"excelente\"])\n",
        "df['D'] = random_values_with_probs(size, [\"bom\", \"otimo\", \"excelente\"], [0.7, 0.2, 0.1])\n",
        "\n",
        "#print(df.head())\n",
        "#df.to_csv('dataframe.csv')"
      ],
      "execution_count": null,
      "outputs": []
    },
    {
      "cell_type": "code",
      "metadata": {
        "id": "jogMEJmJwPvj"
      },
      "source": [
        "def generate_n(n, value):\n",
        "  array = []\n",
        "  for i in range(n):\n",
        "    array.append(value)\n",
        "  return array"
      ],
      "execution_count": null,
      "outputs": []
    },
    {
      "cell_type": "markdown",
      "metadata": {
        "id": "EXE3Ije7j7q1"
      },
      "source": [
        "# Generating real dataframes for P3\n"
      ]
    },
    {
      "cell_type": "markdown",
      "metadata": {
        "id": "29D5GbH3khr7"
      },
      "source": [
        "\n",
        "Generate example dataframe (**FIFA**)"
      ]
    },
    {
      "cell_type": "code",
      "metadata": {
        "id": "8AReTZLikncA",
        "colab": {
          "base_uri": "https://localhost:8080/",
          "height": 255
        },
        "outputId": "50784159-0746-4d88-d5da-8d005018c0bc"
      },
      "source": [
        "size = 600\n",
        "\n",
        "df_fifa = pd.DataFrame(columns=['posicao', 'velocidade_media', 'gols', 'passes', 'faltas', 'cartoes', 'substituido'])\n",
        "df_fifa2 = pd.DataFrame(columns=['posicao', 'velocidade_media', 'gols', 'passes', 'faltas', 'cartoes', 'substituido'])\n",
        "df_fifa3 = pd.DataFrame(columns=['posicao', 'velocidade_media', 'gols', 'passes', 'faltas', 'cartoes', 'substituido'])\n",
        "\n",
        "df_fifa['posicao'] = generate_n(200, \"Zagueiro\")\n",
        "df_fifa['velocidade_media'] = random_ints(200, 6, 8)\n",
        "df_fifa['gols'] = random_values_with_probs(200, [0,1,2], [.75, .20, .05])\n",
        "df_fifa['passes'] = random_ints(200, 10, 50)\n",
        "df_fifa['faltas'] = random_ints(200, 1, 15)\n",
        "df_fifa['cartoes'] = random_values_with_probs(200, [\"Nenhum\", \"Amarelo\", \"Vermelho\"], [.40, .50, .10])\n",
        "df_fifa['substituido'] = random_values_with_probs(200, [\"Sim\", \"Não\"], [.30, .70])\n",
        "\n",
        "df_fifa2['posicao'] = generate_n(200, \"Meio Campo\")\n",
        "df_fifa2['velocidade_media'] = random_ints(200, 7, 10)\n",
        "df_fifa2['gols'] = random_values_with_probs(200, [0,1,2,3], [.65, .28, .05, .02])\n",
        "df_fifa2['passes'] = random_ints(200, 15, 70)\n",
        "df_fifa2['faltas'] = random_ints(200, 0, 10)\n",
        "df_fifa2['cartoes'] = random_values_with_probs(200, [\"Nenhum\", \"Amarelo\", \"Vermelho\"], [.60, .30, .10])\n",
        "df_fifa2['substituido'] = random_values_with_probs(200, [\"Sim\", \"Não\"], [.40, .60])\n",
        "\n",
        "df_fifa3['posicao'] = generate_n(200, \"Atacante\")\n",
        "df_fifa3['velocidade_media'] = random_ints(200, 8, 11)\n",
        "df_fifa3['gols'] = random_values_with_probs(200, [0,1,2,3], [.25, .60, .10, .05])\n",
        "df_fifa3['passes'] = random_ints(200, 10, 60)\n",
        "df_fifa3['faltas'] = random_ints(200, 3, 12)\n",
        "df_fifa3['cartoes'] = random_values_with_probs(200, [\"Nenhum\", \"Amarelo\", \"Vermelho\"], [.40, .40, .20])\n",
        "df_fifa3['substituido'] = random_values_with_probs(200, [\"Sim\", \"Não\"], [.50, .50])\n",
        "\n",
        "df_fifa = df_fifa.append(df_fifa2, ignore_index=True)\n",
        "df_fifa = df_fifa.append(df_fifa3, ignore_index=True)\n",
        "print(df_fifa)\n",
        "df_fifa.to_csv('fifa.csv')\n"
      ],
      "execution_count": null,
      "outputs": [
        {
          "output_type": "stream",
          "text": [
            "      posicao  velocidade_media  gols  passes  faltas   cartoes substituido\n",
            "0    Zagueiro                 8     1      12      13    Nenhum         Sim\n",
            "1    Zagueiro                 6     0      39       6  Vermelho         Sim\n",
            "2    Zagueiro                 8     0      42      14    Nenhum         Não\n",
            "3    Zagueiro                 7     1      14       2   Amarelo         Não\n",
            "4    Zagueiro                 6     0      16       7    Nenhum         Sim\n",
            "..        ...               ...   ...     ...     ...       ...         ...\n",
            "595  Atacante                 9     1      10      12    Nenhum         Sim\n",
            "596  Atacante                10     1      25       6    Nenhum         Sim\n",
            "597  Atacante                 8     3      57      11  Vermelho         Não\n",
            "598  Atacante                 8     2      15       3   Amarelo         Sim\n",
            "599  Atacante                10     1      28       9    Nenhum         Não\n",
            "\n",
            "[600 rows x 7 columns]\n"
          ],
          "name": "stdout"
        }
      ]
    },
    {
      "cell_type": "markdown",
      "metadata": {
        "id": "DHby3hYlIVfO"
      },
      "source": [
        "**Download files**"
      ]
    },
    {
      "cell_type": "code",
      "metadata": {
        "id": "p2q5hWN185uF",
        "colab": {
          "base_uri": "https://localhost:8080/",
          "height": 17
        },
        "outputId": "b84cafe8-2eda-4809-f70f-d4eeac5883bb"
      },
      "source": [
        "from google.colab import files\n",
        "files.download('fifa.csv')"
      ],
      "execution_count": null,
      "outputs": [
        {
          "output_type": "display_data",
          "data": {
            "application/javascript": [
              "\n",
              "    async function download(id, filename, size) {\n",
              "      if (!google.colab.kernel.accessAllowed) {\n",
              "        return;\n",
              "      }\n",
              "      const div = document.createElement('div');\n",
              "      const label = document.createElement('label');\n",
              "      label.textContent = `Downloading \"${filename}\": `;\n",
              "      div.appendChild(label);\n",
              "      const progress = document.createElement('progress');\n",
              "      progress.max = size;\n",
              "      div.appendChild(progress);\n",
              "      document.body.appendChild(div);\n",
              "\n",
              "      const buffers = [];\n",
              "      let downloaded = 0;\n",
              "\n",
              "      const channel = await google.colab.kernel.comms.open(id);\n",
              "      // Send a message to notify the kernel that we're ready.\n",
              "      channel.send({})\n",
              "\n",
              "      for await (const message of channel.messages) {\n",
              "        // Send a message to notify the kernel that we're ready.\n",
              "        channel.send({})\n",
              "        if (message.buffers) {\n",
              "          for (const buffer of message.buffers) {\n",
              "            buffers.push(buffer);\n",
              "            downloaded += buffer.byteLength;\n",
              "            progress.value = downloaded;\n",
              "          }\n",
              "        }\n",
              "      }\n",
              "      const blob = new Blob(buffers, {type: 'application/binary'});\n",
              "      const a = document.createElement('a');\n",
              "      a.href = window.URL.createObjectURL(blob);\n",
              "      a.download = filename;\n",
              "      div.appendChild(a);\n",
              "      a.click();\n",
              "      div.remove();\n",
              "    }\n",
              "  "
            ],
            "text/plain": [
              "<IPython.core.display.Javascript object>"
            ]
          },
          "metadata": {
            "tags": []
          }
        },
        {
          "output_type": "display_data",
          "data": {
            "application/javascript": [
              "download(\"download_917a31e2-665e-40a4-bf89-f1820723c2f7\", \"fifa.csv\", 21225)"
            ],
            "text/plain": [
              "<IPython.core.display.Javascript object>"
            ]
          },
          "metadata": {
            "tags": []
          }
        }
      ]
    }
  ]
}